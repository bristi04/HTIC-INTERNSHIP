{
 "cells": [
  {
   "cell_type": "code",
   "execution_count": 2,
   "id": "e0975e60",
   "metadata": {},
   "outputs": [],
   "source": [
    "import torch\n",
    "from PIL import Image\n",
    "import torchvision.transforms as transforms"
   ]
  },
  {
   "cell_type": "code",
   "execution_count": 6,
   "id": "cbdbd50f",
   "metadata": {},
   "outputs": [],
   "source": [
    "img=Image.open('61qbMx4oXJL.jpg')"
   ]
  },
  {
   "cell_type": "markdown",
   "id": "5f046a93",
   "metadata": {},
   "source": [
    "Image to a torch tensor"
   ]
  },
  {
   "cell_type": "code",
   "execution_count": 10,
   "id": "cc76b124",
   "metadata": {},
   "outputs": [
    {
     "name": "stdout",
     "output_type": "stream",
     "text": [
      "tensor([[[1, 1, 1,  ..., 0, 0, 0],\n",
      "         [1, 1, 1,  ..., 0, 0, 0],\n",
      "         [1, 1, 1,  ..., 0, 0, 0],\n",
      "         ...,\n",
      "         [0, 0, 0,  ..., 0, 0, 0],\n",
      "         [0, 0, 0,  ..., 0, 0, 0],\n",
      "         [0, 0, 0,  ..., 0, 0, 0]],\n",
      "\n",
      "        [[0, 0, 0,  ..., 0, 0, 0],\n",
      "         [0, 0, 0,  ..., 0, 0, 0],\n",
      "         [0, 0, 0,  ..., 0, 0, 0],\n",
      "         ...,\n",
      "         [0, 0, 0,  ..., 0, 0, 0],\n",
      "         [0, 0, 0,  ..., 0, 0, 0],\n",
      "         [0, 0, 0,  ..., 0, 0, 0]],\n",
      "\n",
      "        [[5, 5, 5,  ..., 8, 8, 8],\n",
      "         [5, 5, 5,  ..., 8, 8, 8],\n",
      "         [5, 5, 5,  ..., 8, 8, 8],\n",
      "         ...,\n",
      "         [2, 2, 2,  ..., 4, 4, 4],\n",
      "         [2, 2, 2,  ..., 4, 4, 4],\n",
      "         [2, 2, 2,  ..., 4, 4, 4]]], dtype=torch.uint8)\n"
     ]
    }
   ],
   "source": [
    "transform=transforms.Compose([transforms.PILToTensor()])\n",
    "img_tensor=transform(img)\n",
    "print(img_tensor)"
   ]
  },
  {
   "cell_type": "markdown",
   "id": "cef7fe36",
   "metadata": {},
   "source": [
    "RGB Image to Tensor"
   ]
  },
  {
   "cell_type": "code",
   "execution_count": 12,
   "id": "aab484de",
   "metadata": {},
   "outputs": [],
   "source": [
    "import cv2\n",
    "\n",
    "rgb_img=cv2.imread('red-lacewing-butterfly-red-butterflies.jpg')\n",
    "rgb_img=cv2.cvtColor(rgb_img, cv2.COLOR_BGR2RGB)"
   ]
  },
  {
   "cell_type": "code",
   "execution_count": 14,
   "id": "af2a7293",
   "metadata": {},
   "outputs": [
    {
     "name": "stdout",
     "output_type": "stream",
     "text": [
      "tensor([[[0.1294, 0.1333, 0.1333,  ..., 0.5255, 0.5255, 0.5255],\n",
      "         [0.1098, 0.1098, 0.1137,  ..., 0.5059, 0.5059, 0.5059],\n",
      "         [0.0980, 0.1020, 0.1020,  ..., 0.4941, 0.4941, 0.4941],\n",
      "         ...,\n",
      "         [0.2627, 0.2627, 0.2627,  ..., 0.5098, 0.5137, 0.4941],\n",
      "         [0.2706, 0.2745, 0.2745,  ..., 0.5255, 0.5294, 0.5020],\n",
      "         [0.2980, 0.2980, 0.2980,  ..., 0.5373, 0.5412, 0.5137]],\n",
      "\n",
      "        [[0.1725, 0.1765, 0.1765,  ..., 0.6078, 0.6078, 0.6078],\n",
      "         [0.1529, 0.1529, 0.1569,  ..., 0.5882, 0.5882, 0.5882],\n",
      "         [0.1412, 0.1451, 0.1451,  ..., 0.5765, 0.5765, 0.5765],\n",
      "         ...,\n",
      "         [0.3373, 0.3373, 0.3373,  ..., 0.6078, 0.6118, 0.5922],\n",
      "         [0.3451, 0.3490, 0.3490,  ..., 0.6235, 0.6275, 0.6000],\n",
      "         [0.3725, 0.3725, 0.3725,  ..., 0.6353, 0.6392, 0.6118]],\n",
      "\n",
      "        [[0.0392, 0.0431, 0.0431,  ..., 0.3373, 0.3451, 0.3451],\n",
      "         [0.0196, 0.0196, 0.0235,  ..., 0.3176, 0.3255, 0.3255],\n",
      "         [0.0078, 0.0118, 0.0118,  ..., 0.3059, 0.3059, 0.3059],\n",
      "         ...,\n",
      "         [0.0863, 0.0863, 0.0863,  ..., 0.2471, 0.2510, 0.2235],\n",
      "         [0.0941, 0.0980, 0.0980,  ..., 0.2627, 0.2667, 0.2314],\n",
      "         [0.1216, 0.1216, 0.1216,  ..., 0.2745, 0.2784, 0.2431]]])\n"
     ]
    }
   ],
   "source": [
    "transform=transforms.Compose([transforms.ToTensor()])\n",
    "img_tensor=transform(rgb_img)\n",
    "print(img_tensor)"
   ]
  },
  {
   "cell_type": "markdown",
   "id": "db32dc08",
   "metadata": {},
   "source": [
    "Gaussian Filter in Pytorch"
   ]
  },
  {
   "cell_type": "code",
   "execution_count": 23,
   "id": "f8b52aac",
   "metadata": {},
   "outputs": [],
   "source": [
    "image=Image.open('red-lacewing-butterfly-red-butterflies.jpg')\n",
    "gaus_transform=transforms.GaussianBlur(kernel_size=11,sigma=0.5)\n",
    "img=gaus_transform(image)\n",
    "image.show()\n",
    "img.show()"
   ]
  }
 ],
 "metadata": {
  "kernelspec": {
   "display_name": "Python 3",
   "language": "python",
   "name": "python3"
  },
  "language_info": {
   "codemirror_mode": {
    "name": "ipython",
    "version": 3
   },
   "file_extension": ".py",
   "mimetype": "text/x-python",
   "name": "python",
   "nbconvert_exporter": "python",
   "pygments_lexer": "ipython3",
   "version": "3.12.8"
  }
 },
 "nbformat": 4,
 "nbformat_minor": 5
}
