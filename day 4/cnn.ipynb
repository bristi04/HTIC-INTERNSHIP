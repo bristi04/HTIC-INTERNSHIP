{
 "cells": [
  {
   "cell_type": "code",
   "execution_count": 12,
   "id": "e1c2566c",
   "metadata": {},
   "outputs": [],
   "source": [
    "import torch\n",
    "import torchvision\n",
    "import torchvision.transforms as transforms\n"
   ]
  },
  {
   "cell_type": "code",
   "execution_count": 13,
   "id": "cb97292c",
   "metadata": {},
   "outputs": [],
   "source": [
    "device=torch.device('cuda' if torch.cuda.is_available() else 'cpu')"
   ]
  },
  {
   "cell_type": "code",
   "execution_count": 14,
   "id": "9b815093",
   "metadata": {},
   "outputs": [],
   "source": [
    "transform=transforms.Compose([transforms.ToTensor(), transforms.Normalize((0.5,0.5,0.5),(0.5,0.5,0.5))])"
   ]
  },
  {
   "cell_type": "code",
   "execution_count": 15,
   "id": "3f0cac6e",
   "metadata": {},
   "outputs": [],
   "source": [
    "batch_size=4\n",
    "learning_rate=0.001\n",
    "epochs=10"
   ]
  },
  {
   "cell_type": "code",
   "execution_count": 16,
   "id": "1ee7806f",
   "metadata": {},
   "outputs": [
    {
     "name": "stdout",
     "output_type": "stream",
     "text": [
      "Files already downloaded and verified\n"
     ]
    }
   ],
   "source": [
    "trainset=torchvision.datasets.CIFAR10(root='./data',download=True, train=True, transform=transform)\n",
    "testset=torchvision.datasets.CIFAR10(root='./data', train=False,download=False, transform=transform)\n",
    "trainset_loader=torch.utils.data.DataLoader(trainset,batch_size=batch_size, shuffle=True)\n",
    "testset_loader=torch.utils.data.DataLoader(testset,batch_size=batch_size, shuffle=True)\n",
    "\n",
    "classes = ('plane', 'car', 'bird', 'cat','deer', 'dog', 'frog', 'horse', 'ship', 'truck')"
   ]
  },
  {
   "cell_type": "code",
   "execution_count": 17,
   "id": "0bc4ced4",
   "metadata": {},
   "outputs": [],
   "source": [
    "import torch.nn as nn\n",
    "import torch.nn.functional as F"
   ]
  },
  {
   "cell_type": "code",
   "execution_count": 18,
   "id": "59921171",
   "metadata": {},
   "outputs": [],
   "source": [
    "class ConvNet(nn.Module):\n",
    "    def __init__(self):\n",
    "        super(ConvNet, self).__init__()\n",
    "        self.conv1=nn.Conv2d(3,6,5)\n",
    "        self.pool=nn.MaxPool2d(2,2)\n",
    "        self.conv2=nn.Conv2d(6,16,5)\n",
    "        self.fc1=nn.Linear(16*5*5,120)\n",
    "        self.fc2=nn.Linear(120,84)\n",
    "        self.fc3=nn.Linear(84,10)\n",
    "\n",
    "    def forward(self,x):\n",
    "        x=self.pool(F.relu(self.conv1(x)))\n",
    "        x=self.pool(F.relu(self.conv2(x)))\n",
    "        x=x.view(-1,16*5*5)\n",
    "        x=F.relu(self.fc1(x))\n",
    "        x=F.relu(self.fc2(x))\n",
    "        x=self.fc3(x)\n",
    "        return x\n",
    "    \n",
    "model = ConvNet().to(device)\n"
   ]
  },
  {
   "cell_type": "code",
   "execution_count": 19,
   "id": "88b06197",
   "metadata": {},
   "outputs": [],
   "source": [
    "criterion=nn.CrossEntropyLoss()\n",
    "optimizer=torch.optim.SGD(model.parameters(), lr=learning_rate)"
   ]
  },
  {
   "cell_type": "code",
   "execution_count": 20,
   "id": "1a45e299",
   "metadata": {},
   "outputs": [
    {
     "name": "stdout",
     "output_type": "stream",
     "text": [
      "<torch.utils.data.dataloader.DataLoader object at 0x0000023F936D9CD0>\n"
     ]
    }
   ],
   "source": [
    "print(trainset_loader)"
   ]
  },
  {
   "cell_type": "code",
   "execution_count": 21,
   "id": "5fd49be5",
   "metadata": {},
   "outputs": [
    {
     "name": "stdout",
     "output_type": "stream",
     "text": [
      "Epoch[1],loss:2.4659\n",
      "Epoch[2],loss:2.6930\n",
      "Epoch[3],loss:1.2574\n",
      "Epoch[4],loss:1.4968\n",
      "Epoch[5],loss:2.2710\n",
      "Epoch[6],loss:0.7162\n",
      "Epoch[7],loss:1.7514\n",
      "Epoch[8],loss:1.5897\n",
      "Epoch[9],loss:0.4039\n",
      "Epoch[10],loss:1.2502\n"
     ]
    }
   ],
   "source": [
    "for epoch in range(epochs):\n",
    "    for batch_index, (images, labels) in enumerate(trainset_loader):\n",
    "        images=images.to(device)\n",
    "        labels=labels.to(device)\n",
    "        outputs=model(images) #Predicting the output of the images via cnn model\n",
    "        loss=criterion(outputs,labels)\n",
    "        optimizer.zero_grad() #Clears old gradients (otherwise they'd accumulate)\n",
    "        loss.backward() #Calculates gradients of the loss w.r.t. model parameters\n",
    "        optimizer.step() #Updates model parameters based on gradients and learning rate\n",
    "\n",
    "    print('Epoch[{}],loss:{:.4f}'.format(epoch+1,loss.item()))"
   ]
  }
 ],
 "metadata": {
  "kernelspec": {
   "display_name": "Python 3",
   "language": "python",
   "name": "python3"
  },
  "language_info": {
   "codemirror_mode": {
    "name": "ipython",
    "version": 3
   },
   "file_extension": ".py",
   "mimetype": "text/x-python",
   "name": "python",
   "nbconvert_exporter": "python",
   "pygments_lexer": "ipython3",
   "version": "3.12.8"
  }
 },
 "nbformat": 4,
 "nbformat_minor": 5
}
