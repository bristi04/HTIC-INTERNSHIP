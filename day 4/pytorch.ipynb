{
 "cells": [
  {
   "cell_type": "markdown",
   "id": "efc985ac",
   "metadata": {},
   "source": [
    "Pytorch Basics"
   ]
  },
  {
   "cell_type": "code",
   "execution_count": 1,
   "id": "4216fea6",
   "metadata": {},
   "outputs": [],
   "source": [
    "import torch"
   ]
  },
  {
   "cell_type": "code",
   "execution_count": 2,
   "id": "908e84ed",
   "metadata": {},
   "outputs": [
    {
     "data": {
      "text/plain": [
       "tensor([[0.2719, 0.3823],\n",
       "        [0.4341, 0.9324]])"
      ]
     },
     "execution_count": 2,
     "metadata": {},
     "output_type": "execute_result"
    }
   ],
   "source": [
    "torch.rand(2,2)"
   ]
  },
  {
   "cell_type": "code",
   "execution_count": 3,
   "id": "b071e974",
   "metadata": {},
   "outputs": [
    {
     "name": "stdout",
     "output_type": "stream",
     "text": [
      "tensor([[0., 0.],\n",
      "        [0., 0.]])\n"
     ]
    }
   ],
   "source": [
    "x=torch.empty(2,2)\n",
    "print(x)"
   ]
  },
  {
   "cell_type": "code",
   "execution_count": 4,
   "id": "462a37a2",
   "metadata": {},
   "outputs": [
    {
     "data": {
      "text/plain": [
       "tensor([[0., 0., 0., 0.],\n",
       "        [0., 0., 0., 0.],\n",
       "        [0., 0., 0., 0.]])"
      ]
     },
     "execution_count": 4,
     "metadata": {},
     "output_type": "execute_result"
    }
   ],
   "source": [
    "torch.zeros(3,4)"
   ]
  },
  {
   "cell_type": "code",
   "execution_count": 5,
   "id": "4c4fdf63",
   "metadata": {},
   "outputs": [
    {
     "data": {
      "text/plain": [
       "tensor([2, 4, 4])"
      ]
     },
     "execution_count": 5,
     "metadata": {},
     "output_type": "execute_result"
    }
   ],
   "source": [
    "x=torch.tensor([2.4,4,4], dtype=int)\n",
    "x"
   ]
  },
  {
   "cell_type": "code",
   "execution_count": 6,
   "id": "e2ab2d1f",
   "metadata": {},
   "outputs": [
    {
     "name": "stdout",
     "output_type": "stream",
     "text": [
      "tensor([[0.8503, 0.9911],\n",
      "        [0.5410, 0.3806]])\n",
      "tensor([[0.3856, 0.1760],\n",
      "        [0.4647, 0.1287]])\n",
      "tensor([[1.2359, 1.1671],\n",
      "        [1.0057, 0.5093]])\n"
     ]
    }
   ],
   "source": [
    "x=torch.rand(2,2)\n",
    "y=torch.rand(2,2)\n",
    "print(x)\n",
    "print(y)\n",
    "z=x+y \n",
    "z=torch.add(x,y)\n",
    "print(z)"
   ]
  },
  {
   "cell_type": "code",
   "execution_count": 7,
   "id": "1f58a7e9",
   "metadata": {},
   "outputs": [
    {
     "name": "stdout",
     "output_type": "stream",
     "text": [
      "tensor([[0.7981, 0.6565, 0.7489],\n",
      "        [0.6865, 0.1663, 0.0496],\n",
      "        [0.5046, 0.1227, 0.9312],\n",
      "        [0.8699, 0.5369, 0.1093],\n",
      "        [0.8324, 0.1151, 0.7940]])\n",
      "tensor([0.7981, 0.6565, 0.7489])\n",
      "tensor([0.6565, 0.1663, 0.1227, 0.5369, 0.1151])\n"
     ]
    }
   ],
   "source": [
    "x=torch.rand(5,3)\n",
    "print(x)\n",
    "print(x[0,:])\n",
    "print(x[:,1])"
   ]
  },
  {
   "cell_type": "markdown",
   "id": "cb130b1a",
   "metadata": {},
   "source": [
    "Reshape"
   ]
  },
  {
   "cell_type": "code",
   "execution_count": 8,
   "id": "94696386",
   "metadata": {},
   "outputs": [
    {
     "name": "stdout",
     "output_type": "stream",
     "text": [
      "tensor([[0.4866, 0.3595, 0.3155, 0.0087],\n",
      "        [0.8464, 0.1496, 0.6226, 0.6612],\n",
      "        [0.1291, 0.7187, 0.3954, 0.8920],\n",
      "        [0.1619, 0.1811, 0.1403, 0.9529]])\n",
      "tensor([0.4866, 0.3595, 0.3155, 0.0087, 0.8464, 0.1496, 0.6226, 0.6612, 0.1291,\n",
      "        0.7187, 0.3954, 0.8920, 0.1619, 0.1811, 0.1403, 0.9529])\n"
     ]
    }
   ],
   "source": [
    "x=torch.rand(4,4)\n",
    "print(x)\n",
    "y=x.view(16)\n",
    "print(y)"
   ]
  },
  {
   "cell_type": "code",
   "execution_count": 9,
   "id": "5bb56a4a",
   "metadata": {},
   "outputs": [
    {
     "name": "stdout",
     "output_type": "stream",
     "text": [
      "tensor([[0.4866, 0.3595, 0.3155, 0.0087, 0.8464, 0.1496, 0.6226, 0.6612],\n",
      "        [0.1291, 0.7187, 0.3954, 0.8920, 0.1619, 0.1811, 0.1403, 0.9529]])\n"
     ]
    }
   ],
   "source": [
    "y=x.view(-1,8)\n",
    "print(y)"
   ]
  },
  {
   "cell_type": "markdown",
   "id": "03066f71",
   "metadata": {},
   "source": [
    "Conversion : Numpy to tensor and Vice Versa"
   ]
  },
  {
   "cell_type": "code",
   "execution_count": 10,
   "id": "688dbd67",
   "metadata": {},
   "outputs": [],
   "source": [
    "import numpy as np"
   ]
  },
  {
   "cell_type": "code",
   "execution_count": 11,
   "id": "b73a47e4",
   "metadata": {},
   "outputs": [
    {
     "name": "stdout",
     "output_type": "stream",
     "text": [
      "tensor([1., 1., 1., 1., 1.])\n",
      "[1. 1. 1. 1. 1.]\n",
      "<class 'numpy.ndarray'>\n"
     ]
    }
   ],
   "source": [
    "a=torch.ones(5)\n",
    "print(a)\n",
    "\n",
    "b=a.numpy()\n",
    "print(b)\n",
    "print(type(b))"
   ]
  },
  {
   "cell_type": "code",
   "execution_count": 12,
   "id": "46d538e6",
   "metadata": {},
   "outputs": [
    {
     "name": "stdout",
     "output_type": "stream",
     "text": [
      "tensor([3., 3., 3., 3., 3.])\n",
      "[3. 3. 3. 3. 3.]\n"
     ]
    }
   ],
   "source": [
    "a.add_(2) #inplace addition\n",
    "print(a)\n",
    "print(b)"
   ]
  },
  {
   "cell_type": "code",
   "execution_count": 13,
   "id": "318c0388",
   "metadata": {},
   "outputs": [
    {
     "name": "stdout",
     "output_type": "stream",
     "text": [
      "[1. 1. 1. 1. 1.]\n",
      "tensor([1., 1., 1., 1., 1.], dtype=torch.float64)\n"
     ]
    }
   ],
   "source": [
    "a=np.ones(5)\n",
    "print(a)\n",
    "\n",
    "b=torch.from_numpy(a)\n",
    "print(b)"
   ]
  },
  {
   "cell_type": "code",
   "execution_count": 14,
   "id": "13f8fb52",
   "metadata": {},
   "outputs": [
    {
     "name": "stdout",
     "output_type": "stream",
     "text": [
      "[2. 2. 2. 2. 2.]\n",
      "tensor([2., 2., 2., 2., 2.], dtype=torch.float64)\n"
     ]
    }
   ],
   "source": [
    "a+=1\n",
    "print(a)\n",
    "\n",
    "print(b)"
   ]
  },
  {
   "cell_type": "markdown",
   "id": "d56a5f91",
   "metadata": {},
   "source": [
    "Check CUDA is installed or not"
   ]
  },
  {
   "cell_type": "code",
   "execution_count": 15,
   "id": "51627095",
   "metadata": {},
   "outputs": [],
   "source": [
    "if torch.cuda.is_available():\n",
    "    device=torch.device(\"cuda\")\n",
    "    x=torch.ones(5,device=device)\n",
    "    y=torch.ones(5)\n",
    "    y=y.to(device)\n",
    "    z=x+y\n",
    "    z=z.to(\"cpu\")\n",
    "    "
   ]
  },
  {
   "cell_type": "markdown",
   "id": "8d587b07",
   "metadata": {},
   "source": [
    "For Gradient"
   ]
  },
  {
   "cell_type": "code",
   "execution_count": 16,
   "id": "42bb3ef4",
   "metadata": {},
   "outputs": [
    {
     "name": "stdout",
     "output_type": "stream",
     "text": [
      "tensor([1., 1., 1., 1., 1.], requires_grad=True)\n"
     ]
    }
   ],
   "source": [
    "x=torch.ones(5, requires_grad=True)\n",
    "print(x)"
   ]
  },
  {
   "cell_type": "code",
   "execution_count": 17,
   "id": "1dc4efd1",
   "metadata": {},
   "outputs": [
    {
     "name": "stdout",
     "output_type": "stream",
     "text": [
      "tensor([0.1482, 0.7858, 0.3744, 0.4641, 0.9390], requires_grad=True)\n"
     ]
    }
   ],
   "source": [
    "x=torch.rand(5, requires_grad=True)\n",
    "print(x)"
   ]
  },
  {
   "cell_type": "code",
   "execution_count": 18,
   "id": "72dbcbdf",
   "metadata": {},
   "outputs": [
    {
     "name": "stdout",
     "output_type": "stream",
     "text": [
      "tensor([2.1482, 2.7858, 2.3744, 2.4641, 2.9390], grad_fn=<AddBackward0>)\n"
     ]
    }
   ],
   "source": [
    "y=x+2\n",
    "print(y)"
   ]
  },
  {
   "cell_type": "code",
   "execution_count": 19,
   "id": "d72309a8",
   "metadata": {},
   "outputs": [
    {
     "name": "stdout",
     "output_type": "stream",
     "text": [
      "tensor([ 9.2298, 15.5214, 11.2760, 12.1437, 17.2760], grad_fn=<MulBackward0>)\n"
     ]
    }
   ],
   "source": [
    "z=y*y*2\n",
    "print(z)"
   ]
  },
  {
   "cell_type": "code",
   "execution_count": 20,
   "id": "370dcc43",
   "metadata": {},
   "outputs": [
    {
     "name": "stdout",
     "output_type": "stream",
     "text": [
      "tensor(13.0894, grad_fn=<MeanBackward0>)\n"
     ]
    }
   ],
   "source": [
    "z=z.mean()\n",
    "print(z)"
   ]
  },
  {
   "cell_type": "code",
   "execution_count": 21,
   "id": "b41e7f3e",
   "metadata": {},
   "outputs": [
    {
     "name": "stdout",
     "output_type": "stream",
     "text": [
      "tensor([1.7186, 2.2286, 1.8996, 1.9713, 2.3512])\n"
     ]
    }
   ],
   "source": [
    "z.backward() #dz/dx\n",
    "print(x.grad)"
   ]
  },
  {
   "cell_type": "markdown",
   "id": "237c1abc",
   "metadata": {},
   "source": [
    "Conversion : uint8 to float32"
   ]
  },
  {
   "cell_type": "code",
   "execution_count": null,
   "id": "a5e73b8d",
   "metadata": {},
   "outputs": [
    {
     "name": "stdout",
     "output_type": "stream",
     "text": [
      "tensor([ 0, 22, 44], dtype=torch.uint8)\n",
      "torch.float32\n"
     ]
    },
    {
     "name": "stderr",
     "output_type": "stream",
     "text": [
      "C:\\Users\\anant\\AppData\\Local\\Temp\\ipykernel_18344\\1867669023.py:2: UserWarning: To copy construct from a tensor, it is recommended to use sourceTensor.clone().detach() or sourceTensor.clone().detach().requires_grad_(True), rather than torch.tensor(sourceTensor).\n",
      "  float32_tensor=torch.tensor(uint8_tensor, dtype=torch.float32)\n"
     ]
    }
   ],
   "source": [
    "uint8_tensor=torch.tensor([0,22,44], dtype=torch.uint8)\n",
    "float32_tensor=torch.tensor(uint8_tensor, dtype=torch.float32)\n",
    "print(uint8_tensor)\n",
    "print(float32_tensor)"
   ]
  },
  {
   "cell_type": "code",
   "execution_count": 30,
   "id": "510a8baf",
   "metadata": {},
   "outputs": [
    {
     "name": "stdout",
     "output_type": "stream",
     "text": [
      "tensor([ 0., 22., 44.])\n"
     ]
    }
   ],
   "source": [
    "float32_tensor=uint8_tensor.to(torch.float32)\n",
    "print(float32_tensor)"
   ]
  }
 ],
 "metadata": {
  "kernelspec": {
   "display_name": "Python 3",
   "language": "python",
   "name": "python3"
  },
  "language_info": {
   "codemirror_mode": {
    "name": "ipython",
    "version": 3
   },
   "file_extension": ".py",
   "mimetype": "text/x-python",
   "name": "python",
   "nbconvert_exporter": "python",
   "pygments_lexer": "ipython3",
   "version": "3.12.8"
  }
 },
 "nbformat": 4,
 "nbformat_minor": 5
}
